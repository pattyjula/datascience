{
 "cells": [
  {
   "cell_type": "markdown",
   "id": "d7e3bcb9",
   "metadata": {},
   "source": [
    "# This dataset analyzes information on sex crimes in Los Angeles during the year 2022\n",
    "### The data is only as good as the data in the database"
   ]
  },
  {
   "cell_type": "code",
   "execution_count": 1,
   "id": "5d31d3a4",
   "metadata": {},
   "outputs": [],
   "source": [
    "import pandas as pd\n",
    "import matplotlib.pyplot as plt\n",
    "import seaborn as sns\n",
    "%matplotlib inline"
   ]
  },
  {
   "cell_type": "code",
   "execution_count": 2,
   "id": "b6ab43ab",
   "metadata": {},
   "outputs": [],
   "source": [
    "df = pd.read_csv('Crime_Data_from_2020_to_Present.csv')\n",
    "df['Date'] = pd.to_datetime(df['DATE OCC'])\n",
    "df = df.loc[(df['Date'].dt.year==2022)]# & (df['Date'].dt.month== 8)] "
   ]
  },
  {
   "cell_type": "code",
   "execution_count": null,
   "id": "c833f5eb",
   "metadata": {},
   "outputs": [],
   "source": []
  },
  {
   "cell_type": "code",
   "execution_count": 3,
   "id": "f0466846",
   "metadata": {},
   "outputs": [
    {
     "data": {
      "text/html": [
       "<div>\n",
       "<style scoped>\n",
       "    .dataframe tbody tr th:only-of-type {\n",
       "        vertical-align: middle;\n",
       "    }\n",
       "\n",
       "    .dataframe tbody tr th {\n",
       "        vertical-align: top;\n",
       "    }\n",
       "\n",
       "    .dataframe thead th {\n",
       "        text-align: right;\n",
       "    }\n",
       "</style>\n",
       "<table border=\"1\" class=\"dataframe\">\n",
       "  <thead>\n",
       "    <tr style=\"text-align: right;\">\n",
       "      <th></th>\n",
       "      <th>DR_NO</th>\n",
       "      <th>Date Rptd</th>\n",
       "      <th>DATE OCC</th>\n",
       "      <th>TIME OCC</th>\n",
       "      <th>AREA</th>\n",
       "      <th>AREA NAME</th>\n",
       "      <th>Rpt Dist No</th>\n",
       "      <th>Part 1-2</th>\n",
       "      <th>Crm Cd</th>\n",
       "      <th>Crm Cd Desc</th>\n",
       "      <th>...</th>\n",
       "      <th>Status Desc</th>\n",
       "      <th>Crm Cd 1</th>\n",
       "      <th>Crm Cd 2</th>\n",
       "      <th>Crm Cd 3</th>\n",
       "      <th>Crm Cd 4</th>\n",
       "      <th>LOCATION</th>\n",
       "      <th>Cross Street</th>\n",
       "      <th>LAT</th>\n",
       "      <th>LON</th>\n",
       "      <th>Date</th>\n",
       "    </tr>\n",
       "  </thead>\n",
       "  <tbody>\n",
       "    <tr>\n",
       "      <th>404008</th>\n",
       "      <td>220805283</td>\n",
       "      <td>01/24/2022 12:00:00 AM</td>\n",
       "      <td>01/22/2022 12:00:00 AM</td>\n",
       "      <td>1445</td>\n",
       "      <td>8</td>\n",
       "      <td>West LA</td>\n",
       "      <td>855</td>\n",
       "      <td>1</td>\n",
       "      <td>341</td>\n",
       "      <td>THEFT-GRAND ($950.01 &amp; OVER)EXCPT,GUNS,FOWL,LI...</td>\n",
       "      <td>...</td>\n",
       "      <td>Invest Cont</td>\n",
       "      <td>341.0</td>\n",
       "      <td>NaN</td>\n",
       "      <td>NaN</td>\n",
       "      <td>NaN</td>\n",
       "      <td>1600    CAMDEN                       AV</td>\n",
       "      <td>NaN</td>\n",
       "      <td>34.0501</td>\n",
       "      <td>-118.4439</td>\n",
       "      <td>2022-01-22</td>\n",
       "    </tr>\n",
       "    <tr>\n",
       "      <th>404009</th>\n",
       "      <td>221100536</td>\n",
       "      <td>01/21/2022 12:00:00 AM</td>\n",
       "      <td>01/21/2022 12:00:00 AM</td>\n",
       "      <td>1410</td>\n",
       "      <td>11</td>\n",
       "      <td>Northeast</td>\n",
       "      <td>1149</td>\n",
       "      <td>2</td>\n",
       "      <td>649</td>\n",
       "      <td>DOCUMENT FORGERY / STOLEN FELONY</td>\n",
       "      <td>...</td>\n",
       "      <td>Invest Cont</td>\n",
       "      <td>649.0</td>\n",
       "      <td>998.0</td>\n",
       "      <td>NaN</td>\n",
       "      <td>NaN</td>\n",
       "      <td>5400 N  FIGUEROA                     ST</td>\n",
       "      <td>NaN</td>\n",
       "      <td>34.1076</td>\n",
       "      <td>-118.1969</td>\n",
       "      <td>2022-01-21</td>\n",
       "    </tr>\n",
       "    <tr>\n",
       "      <th>404010</th>\n",
       "      <td>221705337</td>\n",
       "      <td>02/07/2022 12:00:00 AM</td>\n",
       "      <td>02/07/2022 12:00:00 AM</td>\n",
       "      <td>830</td>\n",
       "      <td>17</td>\n",
       "      <td>Devonshire</td>\n",
       "      <td>1751</td>\n",
       "      <td>2</td>\n",
       "      <td>624</td>\n",
       "      <td>BATTERY - SIMPLE ASSAULT</td>\n",
       "      <td>...</td>\n",
       "      <td>Invest Cont</td>\n",
       "      <td>624.0</td>\n",
       "      <td>NaN</td>\n",
       "      <td>NaN</td>\n",
       "      <td>NaN</td>\n",
       "      <td>21800    CRAGGYVIEW                   ST</td>\n",
       "      <td>NaN</td>\n",
       "      <td>34.2554</td>\n",
       "      <td>-118.6050</td>\n",
       "      <td>2022-02-07</td>\n",
       "    </tr>\n",
       "    <tr>\n",
       "      <th>404011</th>\n",
       "      <td>221405082</td>\n",
       "      <td>01/24/2022 12:00:00 AM</td>\n",
       "      <td>01/23/2022 12:00:00 AM</td>\n",
       "      <td>1300</td>\n",
       "      <td>14</td>\n",
       "      <td>Pacific</td>\n",
       "      <td>1407</td>\n",
       "      <td>1</td>\n",
       "      <td>330</td>\n",
       "      <td>BURGLARY FROM VEHICLE</td>\n",
       "      <td>...</td>\n",
       "      <td>Invest Cont</td>\n",
       "      <td>330.0</td>\n",
       "      <td>NaN</td>\n",
       "      <td>NaN</td>\n",
       "      <td>NaN</td>\n",
       "      <td>JASMINE                      AV</td>\n",
       "      <td>PALMS                        BL</td>\n",
       "      <td>34.0275</td>\n",
       "      <td>-118.4064</td>\n",
       "      <td>2022-01-23</td>\n",
       "    </tr>\n",
       "    <tr>\n",
       "      <th>404012</th>\n",
       "      <td>220404359</td>\n",
       "      <td>01/12/2022 12:00:00 AM</td>\n",
       "      <td>01/12/2022 12:00:00 AM</td>\n",
       "      <td>100</td>\n",
       "      <td>4</td>\n",
       "      <td>Hollenbeck</td>\n",
       "      <td>459</td>\n",
       "      <td>2</td>\n",
       "      <td>740</td>\n",
       "      <td>VANDALISM - FELONY ($400 &amp; OVER, ALL CHURCH VA...</td>\n",
       "      <td>...</td>\n",
       "      <td>Invest Cont</td>\n",
       "      <td>740.0</td>\n",
       "      <td>NaN</td>\n",
       "      <td>NaN</td>\n",
       "      <td>NaN</td>\n",
       "      <td>3100    MALABAR                      ST</td>\n",
       "      <td>NaN</td>\n",
       "      <td>34.0459</td>\n",
       "      <td>-118.1968</td>\n",
       "      <td>2022-01-12</td>\n",
       "    </tr>\n",
       "  </tbody>\n",
       "</table>\n",
       "<p>5 rows × 29 columns</p>\n",
       "</div>"
      ],
      "text/plain": [
       "            DR_NO               Date Rptd                DATE OCC  TIME OCC  \\\n",
       "404008  220805283  01/24/2022 12:00:00 AM  01/22/2022 12:00:00 AM      1445   \n",
       "404009  221100536  01/21/2022 12:00:00 AM  01/21/2022 12:00:00 AM      1410   \n",
       "404010  221705337  02/07/2022 12:00:00 AM  02/07/2022 12:00:00 AM       830   \n",
       "404011  221405082  01/24/2022 12:00:00 AM  01/23/2022 12:00:00 AM      1300   \n",
       "404012  220404359  01/12/2022 12:00:00 AM  01/12/2022 12:00:00 AM       100   \n",
       "\n",
       "        AREA   AREA NAME  Rpt Dist No  Part 1-2  Crm Cd  \\\n",
       "404008     8     West LA          855         1     341   \n",
       "404009    11   Northeast         1149         2     649   \n",
       "404010    17  Devonshire         1751         2     624   \n",
       "404011    14     Pacific         1407         1     330   \n",
       "404012     4  Hollenbeck          459         2     740   \n",
       "\n",
       "                                              Crm Cd Desc  ...  Status Desc  \\\n",
       "404008  THEFT-GRAND ($950.01 & OVER)EXCPT,GUNS,FOWL,LI...  ...  Invest Cont   \n",
       "404009                   DOCUMENT FORGERY / STOLEN FELONY  ...  Invest Cont   \n",
       "404010                           BATTERY - SIMPLE ASSAULT  ...  Invest Cont   \n",
       "404011                              BURGLARY FROM VEHICLE  ...  Invest Cont   \n",
       "404012  VANDALISM - FELONY ($400 & OVER, ALL CHURCH VA...  ...  Invest Cont   \n",
       "\n",
       "        Crm Cd 1 Crm Cd 2 Crm Cd 3  Crm Cd 4  \\\n",
       "404008     341.0      NaN      NaN       NaN   \n",
       "404009     649.0    998.0      NaN       NaN   \n",
       "404010     624.0      NaN      NaN       NaN   \n",
       "404011     330.0      NaN      NaN       NaN   \n",
       "404012     740.0      NaN      NaN       NaN   \n",
       "\n",
       "                                        LOCATION  \\\n",
       "404008   1600    CAMDEN                       AV   \n",
       "404009   5400 N  FIGUEROA                     ST   \n",
       "404010  21800    CRAGGYVIEW                   ST   \n",
       "404011           JASMINE                      AV   \n",
       "404012   3100    MALABAR                      ST   \n",
       "\n",
       "                           Cross Street      LAT       LON       Date  \n",
       "404008                              NaN  34.0501 -118.4439 2022-01-22  \n",
       "404009                              NaN  34.1076 -118.1969 2022-01-21  \n",
       "404010                              NaN  34.2554 -118.6050 2022-02-07  \n",
       "404011  PALMS                        BL  34.0275 -118.4064 2022-01-23  \n",
       "404012                              NaN  34.0459 -118.1968 2022-01-12  \n",
       "\n",
       "[5 rows x 29 columns]"
      ]
     },
     "execution_count": 3,
     "metadata": {},
     "output_type": "execute_result"
    }
   ],
   "source": [
    "df.head()\n"
   ]
  },
  {
   "cell_type": "code",
   "execution_count": 4,
   "id": "af8dba3b",
   "metadata": {},
   "outputs": [
    {
     "data": {
      "text/plain": [
       "(27853, 29)"
      ]
     },
     "execution_count": 4,
     "metadata": {},
     "output_type": "execute_result"
    }
   ],
   "source": [
    "df.shape"
   ]
  },
  {
   "cell_type": "code",
   "execution_count": 5,
   "id": "96b595b3",
   "metadata": {},
   "outputs": [
    {
     "data": {
      "text/plain": [
       "Mocodes           True\n",
       "Vict Sex          True\n",
       "Vict Descent      True\n",
       "Premis Desc       True\n",
       "Weapon Used Cd    True\n",
       "Weapon Desc       True\n",
       "Crm Cd 1          True\n",
       "Crm Cd 2          True\n",
       "Crm Cd 3          True\n",
       "Crm Cd 4          True\n",
       "Cross Street      True\n",
       "dtype: bool"
      ]
     },
     "execution_count": 5,
     "metadata": {},
     "output_type": "execute_result"
    }
   ],
   "source": [
    "df.isna().any()[lambda x: x]"
   ]
  },
  {
   "cell_type": "code",
   "execution_count": 6,
   "id": "a12b8b28",
   "metadata": {},
   "outputs": [
    {
     "data": {
      "text/plain": [
       "Index(['Mocodes', 'Vict Sex', 'Vict Descent', 'Premis Desc', 'Weapon Used Cd',\n",
       "       'Weapon Desc', 'Crm Cd 1', 'Crm Cd 2', 'Crm Cd 3', 'Crm Cd 4',\n",
       "       'Cross Street'],\n",
       "      dtype='object')"
      ]
     },
     "execution_count": 6,
     "metadata": {},
     "output_type": "execute_result"
    }
   ],
   "source": [
    "df.columns[df.isnull().any()]"
   ]
  },
  {
   "cell_type": "code",
   "execution_count": 7,
   "id": "0e39775a",
   "metadata": {},
   "outputs": [
    {
     "data": {
      "text/plain": [
       "<AxesSubplot:title={'center':'Types of Crimes'}>"
      ]
     },
     "execution_count": 7,
     "metadata": {},
     "output_type": "execute_result"
    },
    {
     "data": {
      "image/png": "[encoded data removed]",
      "text/plain": [
       "<Figure size 432x288 with 1 Axes>"
      ]
     },
     "metadata": {
      "needs_background": "light"
     },
     "output_type": "display_data"
    }
   ],
   "source": [
    "df['Crm Cd Desc'].value_counts().iloc[:10].sort_values().plot(kind=\"barh\", title = \"Types of Crimes\")"
   ]
  },
  {
   "cell_type": "code",
   "execution_count": 8,
   "id": "84819150",
   "metadata": {},
   "outputs": [
    {
     "data": {
      "text/plain": [
       "<AxesSubplot:title={'center':'Total of Crime Events by Area'}>"
      ]
     },
     "execution_count": 8,
     "metadata": {},
     "output_type": "execute_result"
    },
    {
     "data": {
      "image/png": "[encoded data removed]",
      "text/plain": [
       "<Figure size 432x288 with 1 Axes>"
      ]
     },
     "metadata": {
      "needs_background": "light"
     },
     "output_type": "display_data"
    }
   ],
   "source": [
    "df['AREA NAME'].value_counts().sort_values().plot(kind=\"barh\", color = '#1ABC9C', title = 'Total of Crime Events by Area')"
   ]
  },
  {
   "cell_type": "code",
   "execution_count": 9,
   "id": "0edef56e",
   "metadata": {},
   "outputs": [
    {
     "data": {
      "text/html": [
       "<div>\n",
       "<style scoped>\n",
       "    .dataframe tbody tr th:only-of-type {\n",
       "        vertical-align: middle;\n",
       "    }\n",
       "\n",
       "    .dataframe tbody tr th {\n",
       "        vertical-align: top;\n",
       "    }\n",
       "\n",
       "    .dataframe thead th {\n",
       "        text-align: right;\n",
       "    }\n",
       "</style>\n",
       "<table border=\"1\" class=\"dataframe\">\n",
       "  <thead>\n",
       "    <tr style=\"text-align: right;\">\n",
       "      <th></th>\n",
       "      <th>DR_NO</th>\n",
       "      <th>Date Rptd</th>\n",
       "      <th>DATE OCC</th>\n",
       "      <th>TIME OCC</th>\n",
       "      <th>AREA</th>\n",
       "      <th>AREA NAME</th>\n",
       "      <th>Rpt Dist No</th>\n",
       "      <th>Part 1-2</th>\n",
       "      <th>Crm Cd</th>\n",
       "      <th>Crm Cd Desc</th>\n",
       "      <th>...</th>\n",
       "      <th>Status Desc</th>\n",
       "      <th>Crm Cd 1</th>\n",
       "      <th>Crm Cd 2</th>\n",
       "      <th>Crm Cd 3</th>\n",
       "      <th>Crm Cd 4</th>\n",
       "      <th>LOCATION</th>\n",
       "      <th>Cross Street</th>\n",
       "      <th>LAT</th>\n",
       "      <th>LON</th>\n",
       "      <th>Date</th>\n",
       "    </tr>\n",
       "  </thead>\n",
       "  <tbody>\n",
       "    <tr>\n",
       "      <th>404105</th>\n",
       "      <td>220105324</td>\n",
       "      <td>01/23/2022 12:00:00 AM</td>\n",
       "      <td>01/22/2022 12:00:00 AM</td>\n",
       "      <td>2000</td>\n",
       "      <td>1</td>\n",
       "      <td>Central</td>\n",
       "      <td>147</td>\n",
       "      <td>1</td>\n",
       "      <td>121</td>\n",
       "      <td>RAPE, FORCIBLE</td>\n",
       "      <td>...</td>\n",
       "      <td>Invest Cont</td>\n",
       "      <td>121.0</td>\n",
       "      <td>998.0</td>\n",
       "      <td>NaN</td>\n",
       "      <td>NaN</td>\n",
       "      <td>5TH</td>\n",
       "      <td>SAN JULIAN</td>\n",
       "      <td>34.0446</td>\n",
       "      <td>-118.2450</td>\n",
       "      <td>2022-01-22</td>\n",
       "    </tr>\n",
       "    <tr>\n",
       "      <th>404511</th>\n",
       "      <td>221300582</td>\n",
       "      <td>02/20/2022 12:00:00 AM</td>\n",
       "      <td>02/18/2022 12:00:00 AM</td>\n",
       "      <td>1600</td>\n",
       "      <td>13</td>\n",
       "      <td>Newton</td>\n",
       "      <td>1307</td>\n",
       "      <td>1</td>\n",
       "      <td>121</td>\n",
       "      <td>RAPE, FORCIBLE</td>\n",
       "      <td>...</td>\n",
       "      <td>Invest Cont</td>\n",
       "      <td>121.0</td>\n",
       "      <td>998.0</td>\n",
       "      <td>NaN</td>\n",
       "      <td>NaN</td>\n",
       "      <td>GLADYS                       ST</td>\n",
       "      <td>8TH                          ST</td>\n",
       "      <td>34.0344</td>\n",
       "      <td>-118.2471</td>\n",
       "      <td>2022-02-18</td>\n",
       "    </tr>\n",
       "    <tr>\n",
       "      <th>404717</th>\n",
       "      <td>221205732</td>\n",
       "      <td>02/02/2022 12:00:00 AM</td>\n",
       "      <td>02/02/2022 12:00:00 AM</td>\n",
       "      <td>2000</td>\n",
       "      <td>12</td>\n",
       "      <td>77th Street</td>\n",
       "      <td>1263</td>\n",
       "      <td>1</td>\n",
       "      <td>122</td>\n",
       "      <td>RAPE, ATTEMPTED</td>\n",
       "      <td>...</td>\n",
       "      <td>Adult Arrest</td>\n",
       "      <td>122.0</td>\n",
       "      <td>910.0</td>\n",
       "      <td>NaN</td>\n",
       "      <td>NaN</td>\n",
       "      <td>LA SALLE                     AV</td>\n",
       "      <td>79TH                         ST</td>\n",
       "      <td>33.9636</td>\n",
       "      <td>-118.3112</td>\n",
       "      <td>2022-02-02</td>\n",
       "    </tr>\n",
       "    <tr>\n",
       "      <th>405020</th>\n",
       "      <td>220704479</td>\n",
       "      <td>01/14/2022 12:00:00 AM</td>\n",
       "      <td>01/14/2022 12:00:00 AM</td>\n",
       "      <td>400</td>\n",
       "      <td>7</td>\n",
       "      <td>Wilshire</td>\n",
       "      <td>702</td>\n",
       "      <td>1</td>\n",
       "      <td>121</td>\n",
       "      <td>RAPE, FORCIBLE</td>\n",
       "      <td>...</td>\n",
       "      <td>Invest Cont</td>\n",
       "      <td>121.0</td>\n",
       "      <td>NaN</td>\n",
       "      <td>NaN</td>\n",
       "      <td>NaN</td>\n",
       "      <td>500 N  SIERRA BONITA                AV</td>\n",
       "      <td>NaN</td>\n",
       "      <td>34.0802</td>\n",
       "      <td>-118.3543</td>\n",
       "      <td>2022-01-14</td>\n",
       "    </tr>\n",
       "    <tr>\n",
       "      <th>405256</th>\n",
       "      <td>220100525</td>\n",
       "      <td>01/30/2022 12:00:00 AM</td>\n",
       "      <td>01/30/2022 12:00:00 AM</td>\n",
       "      <td>1300</td>\n",
       "      <td>1</td>\n",
       "      <td>Central</td>\n",
       "      <td>162</td>\n",
       "      <td>1</td>\n",
       "      <td>121</td>\n",
       "      <td>RAPE, FORCIBLE</td>\n",
       "      <td>...</td>\n",
       "      <td>Invest Cont</td>\n",
       "      <td>121.0</td>\n",
       "      <td>998.0</td>\n",
       "      <td>NaN</td>\n",
       "      <td>NaN</td>\n",
       "      <td>700 S  HOPE                         ST</td>\n",
       "      <td>NaN</td>\n",
       "      <td>34.0480</td>\n",
       "      <td>-118.2577</td>\n",
       "      <td>2022-01-30</td>\n",
       "    </tr>\n",
       "  </tbody>\n",
       "</table>\n",
       "<p>5 rows × 29 columns</p>\n",
       "</div>"
      ],
      "text/plain": [
       "            DR_NO               Date Rptd                DATE OCC  TIME OCC  \\\n",
       "404105  220105324  01/23/2022 12:00:00 AM  01/22/2022 12:00:00 AM      2000   \n",
       "404511  221300582  02/20/2022 12:00:00 AM  02/18/2022 12:00:00 AM      1600   \n",
       "404717  221205732  02/02/2022 12:00:00 AM  02/02/2022 12:00:00 AM      2000   \n",
       "405020  220704479  01/14/2022 12:00:00 AM  01/14/2022 12:00:00 AM       400   \n",
       "405256  220100525  01/30/2022 12:00:00 AM  01/30/2022 12:00:00 AM      1300   \n",
       "\n",
       "        AREA    AREA NAME  Rpt Dist No  Part 1-2  Crm Cd      Crm Cd Desc  \\\n",
       "404105     1      Central          147         1     121   RAPE, FORCIBLE   \n",
       "404511    13       Newton         1307         1     121   RAPE, FORCIBLE   \n",
       "404717    12  77th Street         1263         1     122  RAPE, ATTEMPTED   \n",
       "405020     7     Wilshire          702         1     121   RAPE, FORCIBLE   \n",
       "405256     1      Central          162         1     121   RAPE, FORCIBLE   \n",
       "\n",
       "        ...   Status Desc  Crm Cd 1 Crm Cd 2 Crm Cd 3  Crm Cd 4  \\\n",
       "404105  ...   Invest Cont     121.0    998.0      NaN       NaN   \n",
       "404511  ...   Invest Cont     121.0    998.0      NaN       NaN   \n",
       "404717  ...  Adult Arrest     122.0    910.0      NaN       NaN   \n",
       "405020  ...   Invest Cont     121.0      NaN      NaN       NaN   \n",
       "405256  ...   Invest Cont     121.0    998.0      NaN       NaN   \n",
       "\n",
       "                                      LOCATION  \\\n",
       "404105                                     5TH   \n",
       "404511         GLADYS                       ST   \n",
       "404717         LA SALLE                     AV   \n",
       "405020  500 N  SIERRA BONITA                AV   \n",
       "405256  700 S  HOPE                         ST   \n",
       "\n",
       "                           Cross Street      LAT       LON       Date  \n",
       "404105                       SAN JULIAN  34.0446 -118.2450 2022-01-22  \n",
       "404511  8TH                          ST  34.0344 -118.2471 2022-02-18  \n",
       "404717  79TH                         ST  33.9636 -118.3112 2022-02-02  \n",
       "405020                              NaN  34.0802 -118.3543 2022-01-14  \n",
       "405256                              NaN  34.0480 -118.2577 2022-01-30  \n",
       "\n",
       "[5 rows x 29 columns]"
      ]
     },
     "execution_count": 9,
     "metadata": {},
     "output_type": "execute_result"
    }
   ],
   "source": [
    "sex_crimes = df[df['Crm Cd Desc'].str.contains('SEX CRIMES|RAPE')].copy()\n",
    "sex_crimes.head()"
   ]
  },
  {
   "cell_type": "code",
   "execution_count": 10,
   "id": "5cca8b49",
   "metadata": {},
   "outputs": [
    {
     "data": {
      "text/plain": [
       "<AxesSubplot:title={'center':'Sex Crimes by Type in 2022'}>"
      ]
     },
     "execution_count": 10,
     "metadata": {},
     "output_type": "execute_result"
    },
    {
     "data": {
      "image/png": "[encoded data removed]",
      "text/plain": [
       "<Figure size 432x288 with 1 Axes>"
      ]
     },
     "metadata": {
      "needs_background": "light"
     },
     "output_type": "display_data"
    }
   ],
   "source": [
    "sex_crimes['Crm Cd Desc'].value_counts().sort_values().plot(kind=\"barh\", color = '#ff5733', title = 'Sex Crimes by Type in 2022')"
   ]
  },
  {
   "cell_type": "code",
   "execution_count": 11,
   "id": "86086c10",
   "metadata": {},
   "outputs": [
    {
     "data": {
      "text/plain": [
       "<AxesSubplot:title={'center':'Sex Crimes by Area in 2022'}>"
      ]
     },
     "execution_count": 11,
     "metadata": {},
     "output_type": "execute_result"
    },
    {
     "data": {
      "image/png": "[encoded data removed]",
      "text/plain": [
       "<Figure size 432x288 with 1 Axes>"
      ]
     },
     "metadata": {
      "needs_background": "light"
     },
     "output_type": "display_data"
    }
   ],
   "source": [
    "sex_crimes['AREA NAME'].value_counts().sort_values().plot(kind=\"barh\", color = '#ff5733', title = 'Sex Crimes by Area in 2022')"
   ]
  },
  {
   "cell_type": "code",
   "execution_count": 12,
   "id": "277ca693",
   "metadata": {},
   "outputs": [
    {
     "data": {
      "text/plain": [
       "<AxesSubplot:title={'center':'Sex Crimes by Gender in 2022'}>"
      ]
     },
     "execution_count": 12,
     "metadata": {},
     "output_type": "execute_result"
    },
    {
     "data": {
      "image/png": "[encoded data removed]",
      "text/plain": [
       "<Figure size 432x288 with 1 Axes>"
      ]
     },
     "metadata": {
      "needs_background": "light"
     },
     "output_type": "display_data"
    }
   ],
   "source": [
    "sex_crimes['Vict Sex'].value_counts().sort_values().plot(kind=\"bar\", color = '#ffdd33', title = 'Sex Crimes by Gender in 2022')"
   ]
  },
  {
   "cell_type": "code",
   "execution_count": 13,
   "id": "7f36eb79",
   "metadata": {},
   "outputs": [
    {
     "data": {
      "text/plain": [
       "<AxesSubplot:title={'center':'Sex Crimes by Race in 2022'}>"
      ]
     },
     "execution_count": 13,
     "metadata": {},
     "output_type": "execute_result"
    },
    {
     "data": {
      "image/png": "[encoded data removed]",
      "text/plain": [
       "<Figure size 432x288 with 1 Axes>"
      ]
     },
     "metadata": {
      "needs_background": "light"
     },
     "output_type": "display_data"
    }
   ],
   "source": [
    "sex_crimes['Vict Descent'].value_counts().sort_values().plot(kind=\"bar\", color = '#33ffa2', title = 'Sex Crimes by Race in 2022')"
   ]
  },
  {
   "cell_type": "markdown",
   "id": "ac18afc8",
   "metadata": {},
   "source": [
    "## Let's categorize the age field"
   ]
  },
  {
   "cell_type": "code",
   "execution_count": 14,
   "id": "fc6bac03",
   "metadata": {},
   "outputs": [
    {
     "data": {
      "text/html": [
       "<div>\n",
       "<style scoped>\n",
       "    .dataframe tbody tr th:only-of-type {\n",
       "        vertical-align: middle;\n",
       "    }\n",
       "\n",
       "    .dataframe tbody tr th {\n",
       "        vertical-align: top;\n",
       "    }\n",
       "\n",
       "    .dataframe thead th {\n",
       "        text-align: right;\n",
       "    }\n",
       "</style>\n",
       "<table border=\"1\" class=\"dataframe\">\n",
       "  <thead>\n",
       "    <tr style=\"text-align: right;\">\n",
       "      <th></th>\n",
       "      <th>DR_NO</th>\n",
       "      <th>Date Rptd</th>\n",
       "      <th>DATE OCC</th>\n",
       "      <th>TIME OCC</th>\n",
       "      <th>AREA</th>\n",
       "      <th>AREA NAME</th>\n",
       "      <th>Rpt Dist No</th>\n",
       "      <th>Part 1-2</th>\n",
       "      <th>Crm Cd</th>\n",
       "      <th>Crm Cd Desc</th>\n",
       "      <th>...</th>\n",
       "      <th>Crm Cd 2</th>\n",
       "      <th>Crm Cd 3</th>\n",
       "      <th>Crm Cd 4</th>\n",
       "      <th>LOCATION</th>\n",
       "      <th>Cross Street</th>\n",
       "      <th>LAT</th>\n",
       "      <th>LON</th>\n",
       "      <th>Date</th>\n",
       "      <th>age_group</th>\n",
       "      <th>age_sort</th>\n",
       "    </tr>\n",
       "  </thead>\n",
       "  <tbody>\n",
       "    <tr>\n",
       "      <th>431063</th>\n",
       "      <td>221904360</td>\n",
       "      <td>01/09/2022 12:00:00 AM</td>\n",
       "      <td>01/09/2022 12:00:00 AM</td>\n",
       "      <td>2130</td>\n",
       "      <td>19</td>\n",
       "      <td>Mission</td>\n",
       "      <td>1906</td>\n",
       "      <td>1</td>\n",
       "      <td>122</td>\n",
       "      <td>RAPE, ATTEMPTED</td>\n",
       "      <td>...</td>\n",
       "      <td>998.0</td>\n",
       "      <td>NaN</td>\n",
       "      <td>NaN</td>\n",
       "      <td>13300    BERG                         ST</td>\n",
       "      <td>NaN</td>\n",
       "      <td>34.3241</td>\n",
       "      <td>-118.4230</td>\n",
       "      <td>2022-01-09</td>\n",
       "      <td>29 - 39</td>\n",
       "      <td>3.0</td>\n",
       "    </tr>\n",
       "    <tr>\n",
       "      <th>431177</th>\n",
       "      <td>220105154</td>\n",
       "      <td>01/21/2022 12:00:00 AM</td>\n",
       "      <td>01/20/2022 12:00:00 AM</td>\n",
       "      <td>300</td>\n",
       "      <td>1</td>\n",
       "      <td>Central</td>\n",
       "      <td>144</td>\n",
       "      <td>1</td>\n",
       "      <td>121</td>\n",
       "      <td>RAPE, FORCIBLE</td>\n",
       "      <td>...</td>\n",
       "      <td>998.0</td>\n",
       "      <td>NaN</td>\n",
       "      <td>NaN</td>\n",
       "      <td>400 S  MAIN                         ST</td>\n",
       "      <td>NaN</td>\n",
       "      <td>34.0478</td>\n",
       "      <td>-118.2484</td>\n",
       "      <td>2022-01-20</td>\n",
       "      <td>18 - 28</td>\n",
       "      <td>2.0</td>\n",
       "    </tr>\n",
       "  </tbody>\n",
       "</table>\n",
       "<p>2 rows × 31 columns</p>\n",
       "</div>"
      ],
      "text/plain": [
       "            DR_NO               Date Rptd                DATE OCC  TIME OCC  \\\n",
       "431063  221904360  01/09/2022 12:00:00 AM  01/09/2022 12:00:00 AM      2130   \n",
       "431177  220105154  01/21/2022 12:00:00 AM  01/20/2022 12:00:00 AM       300   \n",
       "\n",
       "        AREA AREA NAME  Rpt Dist No  Part 1-2  Crm Cd      Crm Cd Desc  ...  \\\n",
       "431063    19   Mission         1906         1     122  RAPE, ATTEMPTED  ...   \n",
       "431177     1   Central          144         1     121   RAPE, FORCIBLE  ...   \n",
       "\n",
       "       Crm Cd 2  Crm Cd 3 Crm Cd 4                                  LOCATION  \\\n",
       "431063    998.0       NaN      NaN  13300    BERG                         ST   \n",
       "431177    998.0       NaN      NaN    400 S  MAIN                         ST   \n",
       "\n",
       "        Cross Street      LAT       LON       Date age_group age_sort  \n",
       "431063           NaN  34.3241 -118.4230 2022-01-09   29 - 39      3.0  \n",
       "431177           NaN  34.0478 -118.2484 2022-01-20   18 - 28      2.0  \n",
       "\n",
       "[2 rows x 31 columns]"
      ]
     },
     "execution_count": 14,
     "metadata": {},
     "output_type": "execute_result"
    }
   ],
   "source": [
    "sex_crimes.loc[sex_crimes['Vict Age']<=17, 'age_group'] = 'less than 18'\n",
    "sex_crimes.loc[sex_crimes['age_group']=='less than 18', 'age_sort'] = 1.0\n",
    "sex_crimes.loc[sex_crimes['Vict Age'].between(18,28), 'age_group'] = '18 - 28'\n",
    "sex_crimes.loc[sex_crimes['age_group']=='18 - 28', 'age_sort'] = 2\n",
    "sex_crimes.loc[sex_crimes['Vict Age'].between(29,39), 'age_group'] = '29 - 39'\n",
    "sex_crimes.loc[sex_crimes['age_group']=='29 - 39', 'age_sort'] = 3\n",
    "sex_crimes.loc[sex_crimes['Vict Age'].between(40,49), 'age_group'] = '40 - 49'\n",
    "sex_crimes.loc[sex_crimes['age_group']=='40 - 49', 'age_sort'] = 4\n",
    "sex_crimes.loc[sex_crimes['Vict Age'].between(50,59), 'age_group'] = '50 - 59'\n",
    "sex_crimes.loc[sex_crimes['age_group']=='50 - 59', 'age_sort'] = 5\n",
    "sex_crimes.loc[sex_crimes['Vict Age'].between(60,69), 'age_group'] = '60 - 69'\n",
    "sex_crimes.loc[sex_crimes['age_group']=='60 - 69', 'age_sort'] = 6\n",
    "sex_crimes.loc[sex_crimes['Vict Age']>=70, 'age_group'] = 'older than 69'\n",
    "sex_crimes.loc[sex_crimes['age_group']=='70 - 200', 'age_sort'] = 7\n",
    "sex_crimes.tail(2)"
   ]
  },
  {
   "cell_type": "code",
   "execution_count": 15,
   "id": "f7e695ab",
   "metadata": {},
   "outputs": [
    {
     "data": {
      "text/html": [
       "<div>\n",
       "<style scoped>\n",
       "    .dataframe tbody tr th:only-of-type {\n",
       "        vertical-align: middle;\n",
       "    }\n",
       "\n",
       "    .dataframe tbody tr th {\n",
       "        vertical-align: top;\n",
       "    }\n",
       "\n",
       "    .dataframe thead th {\n",
       "        text-align: right;\n",
       "    }\n",
       "</style>\n",
       "<table border=\"1\" class=\"dataframe\">\n",
       "  <thead>\n",
       "    <tr style=\"text-align: right;\">\n",
       "      <th></th>\n",
       "      <th>DR_NO</th>\n",
       "      <th>Date Rptd</th>\n",
       "      <th>DATE OCC</th>\n",
       "      <th>TIME OCC</th>\n",
       "      <th>AREA</th>\n",
       "      <th>AREA NAME</th>\n",
       "      <th>Rpt Dist No</th>\n",
       "      <th>Part 1-2</th>\n",
       "      <th>Crm Cd</th>\n",
       "      <th>Crm Cd Desc</th>\n",
       "      <th>...</th>\n",
       "      <th>Crm Cd 2</th>\n",
       "      <th>Crm Cd 3</th>\n",
       "      <th>Crm Cd 4</th>\n",
       "      <th>LOCATION</th>\n",
       "      <th>Cross Street</th>\n",
       "      <th>LAT</th>\n",
       "      <th>LON</th>\n",
       "      <th>Date</th>\n",
       "      <th>age_group</th>\n",
       "      <th>age_sort</th>\n",
       "    </tr>\n",
       "  </thead>\n",
       "  <tbody>\n",
       "    <tr>\n",
       "      <th>420846</th>\n",
       "      <td>220306328</td>\n",
       "      <td>02/19/2022 12:00:00 AM</td>\n",
       "      <td>02/15/2022 12:00:00 AM</td>\n",
       "      <td>1800</td>\n",
       "      <td>3</td>\n",
       "      <td>Southwest</td>\n",
       "      <td>362</td>\n",
       "      <td>1</td>\n",
       "      <td>121</td>\n",
       "      <td>RAPE, FORCIBLE</td>\n",
       "      <td>...</td>\n",
       "      <td>998.0</td>\n",
       "      <td>NaN</td>\n",
       "      <td>NaN</td>\n",
       "      <td>4000    GELBER                       PL</td>\n",
       "      <td>NaN</td>\n",
       "      <td>34.0133</td>\n",
       "      <td>-118.3487</td>\n",
       "      <td>2022-02-15</td>\n",
       "      <td>less than 18</td>\n",
       "      <td>1.0</td>\n",
       "    </tr>\n",
       "    <tr>\n",
       "      <th>415120</th>\n",
       "      <td>221804477</td>\n",
       "      <td>01/10/2022 12:00:00 AM</td>\n",
       "      <td>01/06/2022 12:00:00 AM</td>\n",
       "      <td>2100</td>\n",
       "      <td>18</td>\n",
       "      <td>Southeast</td>\n",
       "      <td>1827</td>\n",
       "      <td>1</td>\n",
       "      <td>121</td>\n",
       "      <td>RAPE, FORCIBLE</td>\n",
       "      <td>...</td>\n",
       "      <td>998.0</td>\n",
       "      <td>NaN</td>\n",
       "      <td>NaN</td>\n",
       "      <td>92ND                         ST</td>\n",
       "      <td>GRAHAM</td>\n",
       "      <td>33.9533</td>\n",
       "      <td>-118.2430</td>\n",
       "      <td>2022-01-06</td>\n",
       "      <td>less than 18</td>\n",
       "      <td>1.0</td>\n",
       "    </tr>\n",
       "    <tr>\n",
       "      <th>430641</th>\n",
       "      <td>220205676</td>\n",
       "      <td>02/08/2022 12:00:00 AM</td>\n",
       "      <td>02/03/2022 12:00:00 AM</td>\n",
       "      <td>1700</td>\n",
       "      <td>2</td>\n",
       "      <td>Rampart</td>\n",
       "      <td>238</td>\n",
       "      <td>1</td>\n",
       "      <td>121</td>\n",
       "      <td>RAPE, FORCIBLE</td>\n",
       "      <td>...</td>\n",
       "      <td>NaN</td>\n",
       "      <td>NaN</td>\n",
       "      <td>NaN</td>\n",
       "      <td>100 N  TOLUCA                       ST</td>\n",
       "      <td>NaN</td>\n",
       "      <td>34.0616</td>\n",
       "      <td>-118.2586</td>\n",
       "      <td>2022-02-03</td>\n",
       "      <td>less than 18</td>\n",
       "      <td>1.0</td>\n",
       "    </tr>\n",
       "    <tr>\n",
       "      <th>429541</th>\n",
       "      <td>220804570</td>\n",
       "      <td>01/14/2022 12:00:00 AM</td>\n",
       "      <td>01/14/2022 12:00:00 AM</td>\n",
       "      <td>2030</td>\n",
       "      <td>8</td>\n",
       "      <td>West LA</td>\n",
       "      <td>899</td>\n",
       "      <td>1</td>\n",
       "      <td>122</td>\n",
       "      <td>RAPE, ATTEMPTED</td>\n",
       "      <td>...</td>\n",
       "      <td>998.0</td>\n",
       "      <td>NaN</td>\n",
       "      <td>NaN</td>\n",
       "      <td>3200    CATTARAUGUS                  AV</td>\n",
       "      <td>NaN</td>\n",
       "      <td>34.0327</td>\n",
       "      <td>-118.3822</td>\n",
       "      <td>2022-01-14</td>\n",
       "      <td>less than 18</td>\n",
       "      <td>1.0</td>\n",
       "    </tr>\n",
       "    <tr>\n",
       "      <th>415148</th>\n",
       "      <td>220705788</td>\n",
       "      <td>02/17/2022 12:00:00 AM</td>\n",
       "      <td>02/13/2022 12:00:00 AM</td>\n",
       "      <td>500</td>\n",
       "      <td>7</td>\n",
       "      <td>Wilshire</td>\n",
       "      <td>779</td>\n",
       "      <td>1</td>\n",
       "      <td>121</td>\n",
       "      <td>RAPE, FORCIBLE</td>\n",
       "      <td>...</td>\n",
       "      <td>998.0</td>\n",
       "      <td>NaN</td>\n",
       "      <td>NaN</td>\n",
       "      <td>1700    4TH                          AV</td>\n",
       "      <td>NaN</td>\n",
       "      <td>34.0418</td>\n",
       "      <td>-118.3213</td>\n",
       "      <td>2022-02-13</td>\n",
       "      <td>less than 18</td>\n",
       "      <td>1.0</td>\n",
       "    </tr>\n",
       "  </tbody>\n",
       "</table>\n",
       "<p>5 rows × 31 columns</p>\n",
       "</div>"
      ],
      "text/plain": [
       "            DR_NO               Date Rptd                DATE OCC  TIME OCC  \\\n",
       "420846  220306328  02/19/2022 12:00:00 AM  02/15/2022 12:00:00 AM      1800   \n",
       "415120  221804477  01/10/2022 12:00:00 AM  01/06/2022 12:00:00 AM      2100   \n",
       "430641  220205676  02/08/2022 12:00:00 AM  02/03/2022 12:00:00 AM      1700   \n",
       "429541  220804570  01/14/2022 12:00:00 AM  01/14/2022 12:00:00 AM      2030   \n",
       "415148  220705788  02/17/2022 12:00:00 AM  02/13/2022 12:00:00 AM       500   \n",
       "\n",
       "        AREA  AREA NAME  Rpt Dist No  Part 1-2  Crm Cd      Crm Cd Desc  ...  \\\n",
       "420846     3  Southwest          362         1     121   RAPE, FORCIBLE  ...   \n",
       "415120    18  Southeast         1827         1     121   RAPE, FORCIBLE  ...   \n",
       "430641     2    Rampart          238         1     121   RAPE, FORCIBLE  ...   \n",
       "429541     8    West LA          899         1     122  RAPE, ATTEMPTED  ...   \n",
       "415148     7   Wilshire          779         1     121   RAPE, FORCIBLE  ...   \n",
       "\n",
       "       Crm Cd 2  Crm Cd 3 Crm Cd 4                                 LOCATION  \\\n",
       "420846    998.0       NaN      NaN  4000    GELBER                       PL   \n",
       "415120    998.0       NaN      NaN          92ND                         ST   \n",
       "430641      NaN       NaN      NaN   100 N  TOLUCA                       ST   \n",
       "429541    998.0       NaN      NaN  3200    CATTARAUGUS                  AV   \n",
       "415148    998.0       NaN      NaN  1700    4TH                          AV   \n",
       "\n",
       "        Cross Street      LAT       LON       Date     age_group age_sort  \n",
       "420846           NaN  34.0133 -118.3487 2022-02-15  less than 18      1.0  \n",
       "415120        GRAHAM  33.9533 -118.2430 2022-01-06  less than 18      1.0  \n",
       "430641           NaN  34.0616 -118.2586 2022-02-03  less than 18      1.0  \n",
       "429541           NaN  34.0327 -118.3822 2022-01-14  less than 18      1.0  \n",
       "415148           NaN  34.0418 -118.3213 2022-02-13  less than 18      1.0  \n",
       "\n",
       "[5 rows x 31 columns]"
      ]
     },
     "execution_count": 15,
     "metadata": {},
     "output_type": "execute_result"
    }
   ],
   "source": [
    "sex_crimes = sex_crimes.sort_values('age_sort')\n",
    "sex_crimes.head()\n"
   ]
  },
  {
   "cell_type": "code",
   "execution_count": null,
   "id": "5db5e734",
   "metadata": {},
   "outputs": [],
   "source": [
    "\n"
   ]
  },
  {
   "cell_type": "code",
   "execution_count": null,
   "id": "6557e65a",
   "metadata": {},
   "outputs": [],
   "source": []
  },
  {
   "cell_type": "code",
   "execution_count": 18,
   "id": "4f59fbf8",
   "metadata": {},
   "outputs": [
    {
     "data": {
      "text/plain": [
       "(array([0, 1, 2, 3, 4]),\n",
       " [Text(0, 0, 'less than 18'),\n",
       "  Text(1, 0, '18 - 28'),\n",
       "  Text(2, 0, '29 - 39'),\n",
       "  Text(3, 0, '40 - 49'),\n",
       "  Text(4, 0, '50 - 59')])"
      ]
     },
     "execution_count": 18,
     "metadata": {},
     "output_type": "execute_result"
    },
    {
     "data": {
      "image/png": "[encoded data removed]",
      "text/plain": [
       "<Figure size 432x288 with 1 Axes>"
      ]
     },
     "metadata": {},
     "output_type": "display_data"
    }
   ],
   "source": [
    "sns.set_theme(style=\"darkgrid\")\n",
    "day_order = [\"less than 18\", '18 - 28', '29 - 39', '40 - 49', '50 - 59']#, '60 - 69', 'older than 69']\n",
    "sns.countplot(x = \"age_group\", data = sex_crimes, order = day_order, palette=\"Set2\").set(title='Sex Crimes by Age')\n",
    "plt.xticks(rotation=45)"
   ]
  },
  {
   "cell_type": "code",
   "execution_count": null,
   "id": "143df773",
   "metadata": {},
   "outputs": [],
   "source": []
  }
 ],
 "metadata": {
  "kernelspec": {
   "display_name": "Python 3 (ipykernel)",
   "language": "python",
   "name": "python3"
  },
  "language_info": {
   "codemirror_mode": {
    "name": "ipython",
    "version": 3
   },
   "file_extension": ".py",
   "mimetype": "text/x-python",
   "name": "python",
   "nbconvert_exporter": "python",
   "pygments_lexer": "ipython3",
   "version": "3.8.11"
  }
 },
 "nbformat": 4,
 "nbformat_minor": 5
}
