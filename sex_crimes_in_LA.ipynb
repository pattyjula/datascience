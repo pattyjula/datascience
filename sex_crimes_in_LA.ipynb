{
 "cells": [
  {
   "cell_type": "markdown",
   "id": "d7e3bcb9",
   "metadata": {},
   "source": [
    "# This dataset analyzes information on sex crimes, a part 1 crime as defined by the FBI, in Los Angeles during the year 2022\n",
    "## This analysis is done with Python and the pandas, matplotlib, and csv libraries, with the goal of producing further understanding of the characteristics of these events.\n",
    "## The source of this data can be found below\n",
    "### Source: https://data.lacity.org/Public-Safety/Crime-Data-from-2020-to-Present/2nrs-mtv8\n",
    "### This data is only as good as the data reported in the database"
   ]
  },
  {
   "cell_type": "code",
   "execution_count": 61,
   "id": "5d31d3a4",
   "metadata": {},
   "outputs": [],
   "source": [
    "# Import libraries\n",
    "import pandas as pd\n",
    "import matplotlib.pyplot as plt\n",
    "import seaborn as sns\n",
    "%matplotlib inline"
   ]
  },
  {
   "cell_type": "code",
   "execution_count": 62,
   "id": "b6ab43ab",
   "metadata": {},
   "outputs": [],
   "source": [
    "df = pd.read_csv('Crime_Data_from_2020_to_Present.csv')\n",
    "df['Date'] = pd.to_datetime(df['DATE OCC'])\n",
    "df = df.loc[(df['Date'].dt.year==2022)]# & (df['Date'].dt.month== 8)] "
   ]
  },
  {
   "cell_type": "markdown",
   "id": "d521d32a",
   "metadata": {},
   "source": [
    "### Let's check the first few rows and the shape of the data"
   ]
  },
  {
   "cell_type": "code",
   "execution_count": 63,
   "id": "f0466846",
   "metadata": {},
   "outputs": [
    {
     "data": {
      "text/html": [
       "<div>\n",
       "<style scoped>\n",
       "    .dataframe tbody tr th:only-of-type {\n",
       "        vertical-align: middle;\n",
       "    }\n",
       "\n",
       "    .dataframe tbody tr th {\n",
       "        vertical-align: top;\n",
       "    }\n",
       "\n",
       "    .dataframe thead th {\n",
       "        text-align: right;\n",
       "    }\n",
       "</style>\n",
       "<table border=\"1\" class=\"dataframe\">\n",
       "  <thead>\n",
       "    <tr style=\"text-align: right;\">\n",
       "      <th></th>\n",
       "      <th>DR_NO</th>\n",
       "      <th>Date Rptd</th>\n",
       "      <th>DATE OCC</th>\n",
       "      <th>TIME OCC</th>\n",
       "      <th>AREA</th>\n",
       "      <th>AREA NAME</th>\n",
       "      <th>Rpt Dist No</th>\n",
       "      <th>Part 1-2</th>\n",
       "      <th>Crm Cd</th>\n",
       "      <th>Crm Cd Desc</th>\n",
       "      <th>...</th>\n",
       "      <th>Status Desc</th>\n",
       "      <th>Crm Cd 1</th>\n",
       "      <th>Crm Cd 2</th>\n",
       "      <th>Crm Cd 3</th>\n",
       "      <th>Crm Cd 4</th>\n",
       "      <th>LOCATION</th>\n",
       "      <th>Cross Street</th>\n",
       "      <th>LAT</th>\n",
       "      <th>LON</th>\n",
       "      <th>Date</th>\n",
       "    </tr>\n",
       "  </thead>\n",
       "  <tbody>\n",
       "    <tr>\n",
       "      <th>403810</th>\n",
       "      <td>220805283</td>\n",
       "      <td>01/24/2022 12:00:00 AM</td>\n",
       "      <td>01/22/2022 12:00:00 AM</td>\n",
       "      <td>1445</td>\n",
       "      <td>8</td>\n",
       "      <td>West LA</td>\n",
       "      <td>855</td>\n",
       "      <td>1</td>\n",
       "      <td>341</td>\n",
       "      <td>THEFT-GRAND ($950.01 &amp; OVER)EXCPT,GUNS,FOWL,LI...</td>\n",
       "      <td>...</td>\n",
       "      <td>Invest Cont</td>\n",
       "      <td>341.0</td>\n",
       "      <td>NaN</td>\n",
       "      <td>NaN</td>\n",
       "      <td>NaN</td>\n",
       "      <td>1600    CAMDEN                       AV</td>\n",
       "      <td>NaN</td>\n",
       "      <td>34.0501</td>\n",
       "      <td>-118.4439</td>\n",
       "      <td>2022-01-22</td>\n",
       "    </tr>\n",
       "    <tr>\n",
       "      <th>403811</th>\n",
       "      <td>221100536</td>\n",
       "      <td>01/21/2022 12:00:00 AM</td>\n",
       "      <td>01/21/2022 12:00:00 AM</td>\n",
       "      <td>1410</td>\n",
       "      <td>11</td>\n",
       "      <td>Northeast</td>\n",
       "      <td>1149</td>\n",
       "      <td>2</td>\n",
       "      <td>649</td>\n",
       "      <td>DOCUMENT FORGERY / STOLEN FELONY</td>\n",
       "      <td>...</td>\n",
       "      <td>Invest Cont</td>\n",
       "      <td>649.0</td>\n",
       "      <td>998.0</td>\n",
       "      <td>NaN</td>\n",
       "      <td>NaN</td>\n",
       "      <td>5400 N  FIGUEROA                     ST</td>\n",
       "      <td>NaN</td>\n",
       "      <td>34.1076</td>\n",
       "      <td>-118.1969</td>\n",
       "      <td>2022-01-21</td>\n",
       "    </tr>\n",
       "    <tr>\n",
       "      <th>403812</th>\n",
       "      <td>221705337</td>\n",
       "      <td>02/07/2022 12:00:00 AM</td>\n",
       "      <td>02/07/2022 12:00:00 AM</td>\n",
       "      <td>830</td>\n",
       "      <td>17</td>\n",
       "      <td>Devonshire</td>\n",
       "      <td>1751</td>\n",
       "      <td>2</td>\n",
       "      <td>624</td>\n",
       "      <td>BATTERY - SIMPLE ASSAULT</td>\n",
       "      <td>...</td>\n",
       "      <td>Invest Cont</td>\n",
       "      <td>624.0</td>\n",
       "      <td>NaN</td>\n",
       "      <td>NaN</td>\n",
       "      <td>NaN</td>\n",
       "      <td>21800    CRAGGYVIEW                   ST</td>\n",
       "      <td>NaN</td>\n",
       "      <td>34.2554</td>\n",
       "      <td>-118.6050</td>\n",
       "      <td>2022-02-07</td>\n",
       "    </tr>\n",
       "    <tr>\n",
       "      <th>403813</th>\n",
       "      <td>221405082</td>\n",
       "      <td>01/24/2022 12:00:00 AM</td>\n",
       "      <td>01/23/2022 12:00:00 AM</td>\n",
       "      <td>1300</td>\n",
       "      <td>14</td>\n",
       "      <td>Pacific</td>\n",
       "      <td>1407</td>\n",
       "      <td>1</td>\n",
       "      <td>330</td>\n",
       "      <td>BURGLARY FROM VEHICLE</td>\n",
       "      <td>...</td>\n",
       "      <td>Invest Cont</td>\n",
       "      <td>330.0</td>\n",
       "      <td>NaN</td>\n",
       "      <td>NaN</td>\n",
       "      <td>NaN</td>\n",
       "      <td>JASMINE                      AV</td>\n",
       "      <td>PALMS                        BL</td>\n",
       "      <td>34.0275</td>\n",
       "      <td>-118.4064</td>\n",
       "      <td>2022-01-23</td>\n",
       "    </tr>\n",
       "    <tr>\n",
       "      <th>403814</th>\n",
       "      <td>220404359</td>\n",
       "      <td>01/12/2022 12:00:00 AM</td>\n",
       "      <td>01/12/2022 12:00:00 AM</td>\n",
       "      <td>100</td>\n",
       "      <td>4</td>\n",
       "      <td>Hollenbeck</td>\n",
       "      <td>459</td>\n",
       "      <td>2</td>\n",
       "      <td>740</td>\n",
       "      <td>VANDALISM - FELONY ($400 &amp; OVER, ALL CHURCH VA...</td>\n",
       "      <td>...</td>\n",
       "      <td>Invest Cont</td>\n",
       "      <td>740.0</td>\n",
       "      <td>NaN</td>\n",
       "      <td>NaN</td>\n",
       "      <td>NaN</td>\n",
       "      <td>3100    MALABAR                      ST</td>\n",
       "      <td>NaN</td>\n",
       "      <td>34.0459</td>\n",
       "      <td>-118.1968</td>\n",
       "      <td>2022-01-12</td>\n",
       "    </tr>\n",
       "  </tbody>\n",
       "</table>\n",
       "<p>5 rows × 29 columns</p>\n",
       "</div>"
      ],
      "text/plain": [
       "            DR_NO               Date Rptd                DATE OCC  TIME OCC  \\\n",
       "403810  220805283  01/24/2022 12:00:00 AM  01/22/2022 12:00:00 AM      1445   \n",
       "403811  221100536  01/21/2022 12:00:00 AM  01/21/2022 12:00:00 AM      1410   \n",
       "403812  221705337  02/07/2022 12:00:00 AM  02/07/2022 12:00:00 AM       830   \n",
       "403813  221405082  01/24/2022 12:00:00 AM  01/23/2022 12:00:00 AM      1300   \n",
       "403814  220404359  01/12/2022 12:00:00 AM  01/12/2022 12:00:00 AM       100   \n",
       "\n",
       "        AREA   AREA NAME  Rpt Dist No  Part 1-2  Crm Cd  \\\n",
       "403810     8     West LA          855         1     341   \n",
       "403811    11   Northeast         1149         2     649   \n",
       "403812    17  Devonshire         1751         2     624   \n",
       "403813    14     Pacific         1407         1     330   \n",
       "403814     4  Hollenbeck          459         2     740   \n",
       "\n",
       "                                              Crm Cd Desc  ...  Status Desc  \\\n",
       "403810  THEFT-GRAND ($950.01 & OVER)EXCPT,GUNS,FOWL,LI...  ...  Invest Cont   \n",
       "403811                   DOCUMENT FORGERY / STOLEN FELONY  ...  Invest Cont   \n",
       "403812                           BATTERY - SIMPLE ASSAULT  ...  Invest Cont   \n",
       "403813                              BURGLARY FROM VEHICLE  ...  Invest Cont   \n",
       "403814  VANDALISM - FELONY ($400 & OVER, ALL CHURCH VA...  ...  Invest Cont   \n",
       "\n",
       "        Crm Cd 1 Crm Cd 2 Crm Cd 3  Crm Cd 4  \\\n",
       "403810     341.0      NaN      NaN       NaN   \n",
       "403811     649.0    998.0      NaN       NaN   \n",
       "403812     624.0      NaN      NaN       NaN   \n",
       "403813     330.0      NaN      NaN       NaN   \n",
       "403814     740.0      NaN      NaN       NaN   \n",
       "\n",
       "                                        LOCATION  \\\n",
       "403810   1600    CAMDEN                       AV   \n",
       "403811   5400 N  FIGUEROA                     ST   \n",
       "403812  21800    CRAGGYVIEW                   ST   \n",
       "403813           JASMINE                      AV   \n",
       "403814   3100    MALABAR                      ST   \n",
       "\n",
       "                           Cross Street      LAT       LON       Date  \n",
       "403810                              NaN  34.0501 -118.4439 2022-01-22  \n",
       "403811                              NaN  34.1076 -118.1969 2022-01-21  \n",
       "403812                              NaN  34.2554 -118.6050 2022-02-07  \n",
       "403813  PALMS                        BL  34.0275 -118.4064 2022-01-23  \n",
       "403814                              NaN  34.0459 -118.1968 2022-01-12  \n",
       "\n",
       "[5 rows x 29 columns]"
      ]
     },
     "execution_count": 63,
     "metadata": {},
     "output_type": "execute_result"
    }
   ],
   "source": [
    "df.head()\n"
   ]
  },
  {
   "cell_type": "code",
   "execution_count": 64,
   "id": "a8fabcfd",
   "metadata": {},
   "outputs": [
    {
     "data": {
      "text/plain": [
       "(23773, 29)"
      ]
     },
     "execution_count": 64,
     "metadata": {},
     "output_type": "execute_result"
    }
   ],
   "source": [
    "df.shape"
   ]
  },
  {
   "cell_type": "markdown",
   "id": "3ab8ee3b",
   "metadata": {},
   "source": [
    "### Now let's start reviewing the crimes in LA, narrowing in on sex crimes"
   ]
  },
  {
   "cell_type": "code",
   "execution_count": 65,
   "id": "0e39775a",
   "metadata": {},
   "outputs": [
    {
     "data": {
      "text/plain": [
       "<AxesSubplot:title={'center':'Types of Crimes'}>"
      ]
     },
     "execution_count": 65,
     "metadata": {},
     "output_type": "execute_result"
    },
    {
     "data": {
      "image/png": "[encoded data removed]",
      "text/plain": [
       "<Figure size 432x288 with 1 Axes>"
      ]
     },
     "metadata": {
      "needs_background": "light"
     },
     "output_type": "display_data"
    }
   ],
   "source": [
    "df['Crm Cd Desc'].value_counts().iloc[:10].sort_values().plot(kind=\"barh\", title = \"Types of Crimes\")"
   ]
  },
  {
   "cell_type": "markdown",
   "id": "c4571859",
   "metadata": {},
   "source": [
    "## There are 21 geographic areas in the city of Los Angeles, as defined by the LAPD"
   ]
  },
  {
   "cell_type": "code",
   "execution_count": 66,
   "id": "84819150",
   "metadata": {},
   "outputs": [
    {
     "data": {
      "text/plain": [
       "<AxesSubplot:title={'center':'Total of Crime Events by Area'}>"
      ]
     },
     "execution_count": 66,
     "metadata": {},
     "output_type": "execute_result"
    },
    {
     "data": {
      "image/png": "[encoded data removed]",
      "text/plain": [
       "<Figure size 432x288 with 1 Axes>"
      ]
     },
     "metadata": {
      "needs_background": "light"
     },
     "output_type": "display_data"
    }
   ],
   "source": [
    "df['AREA NAME'].value_counts().sort_values().plot(kind=\"barh\", color = '#1ABC9C', title = 'Total of Crime Events by Area')"
   ]
  },
  {
   "cell_type": "markdown",
   "id": "0407df54",
   "metadata": {},
   "source": [
    "### Now let's query for sex crimes and create a new dataframe with the copy command"
   ]
  },
  {
   "cell_type": "code",
   "execution_count": 67,
   "id": "0edef56e",
   "metadata": {},
   "outputs": [
    {
     "data": {
      "text/html": [
       "<div>\n",
       "<style scoped>\n",
       "    .dataframe tbody tr th:only-of-type {\n",
       "        vertical-align: middle;\n",
       "    }\n",
       "\n",
       "    .dataframe tbody tr th {\n",
       "        vertical-align: top;\n",
       "    }\n",
       "\n",
       "    .dataframe thead th {\n",
       "        text-align: right;\n",
       "    }\n",
       "</style>\n",
       "<table border=\"1\" class=\"dataframe\">\n",
       "  <thead>\n",
       "    <tr style=\"text-align: right;\">\n",
       "      <th></th>\n",
       "      <th>DR_NO</th>\n",
       "      <th>Date Rptd</th>\n",
       "      <th>DATE OCC</th>\n",
       "      <th>TIME OCC</th>\n",
       "      <th>AREA</th>\n",
       "      <th>AREA NAME</th>\n",
       "      <th>Rpt Dist No</th>\n",
       "      <th>Part 1-2</th>\n",
       "      <th>Crm Cd</th>\n",
       "      <th>Crm Cd Desc</th>\n",
       "      <th>...</th>\n",
       "      <th>Status Desc</th>\n",
       "      <th>Crm Cd 1</th>\n",
       "      <th>Crm Cd 2</th>\n",
       "      <th>Crm Cd 3</th>\n",
       "      <th>Crm Cd 4</th>\n",
       "      <th>LOCATION</th>\n",
       "      <th>Cross Street</th>\n",
       "      <th>LAT</th>\n",
       "      <th>LON</th>\n",
       "      <th>Date</th>\n",
       "    </tr>\n",
       "  </thead>\n",
       "  <tbody>\n",
       "    <tr>\n",
       "      <th>403894</th>\n",
       "      <td>220105324</td>\n",
       "      <td>01/23/2022 12:00:00 AM</td>\n",
       "      <td>01/22/2022 12:00:00 AM</td>\n",
       "      <td>2000</td>\n",
       "      <td>1</td>\n",
       "      <td>Central</td>\n",
       "      <td>147</td>\n",
       "      <td>1</td>\n",
       "      <td>121</td>\n",
       "      <td>RAPE, FORCIBLE</td>\n",
       "      <td>...</td>\n",
       "      <td>Invest Cont</td>\n",
       "      <td>121.0</td>\n",
       "      <td>998.0</td>\n",
       "      <td>NaN</td>\n",
       "      <td>NaN</td>\n",
       "      <td>5TH</td>\n",
       "      <td>SAN JULIAN</td>\n",
       "      <td>34.0446</td>\n",
       "      <td>-118.2450</td>\n",
       "      <td>2022-01-22</td>\n",
       "    </tr>\n",
       "    <tr>\n",
       "      <th>404423</th>\n",
       "      <td>221205732</td>\n",
       "      <td>02/02/2022 12:00:00 AM</td>\n",
       "      <td>02/02/2022 12:00:00 AM</td>\n",
       "      <td>2000</td>\n",
       "      <td>12</td>\n",
       "      <td>77th Street</td>\n",
       "      <td>1263</td>\n",
       "      <td>1</td>\n",
       "      <td>122</td>\n",
       "      <td>RAPE, ATTEMPTED</td>\n",
       "      <td>...</td>\n",
       "      <td>Adult Arrest</td>\n",
       "      <td>122.0</td>\n",
       "      <td>910.0</td>\n",
       "      <td>NaN</td>\n",
       "      <td>NaN</td>\n",
       "      <td>LA SALLE                     AV</td>\n",
       "      <td>79TH                         ST</td>\n",
       "      <td>33.9636</td>\n",
       "      <td>-118.3112</td>\n",
       "      <td>2022-02-02</td>\n",
       "    </tr>\n",
       "    <tr>\n",
       "      <th>404887</th>\n",
       "      <td>220100525</td>\n",
       "      <td>01/30/2022 12:00:00 AM</td>\n",
       "      <td>01/30/2022 12:00:00 AM</td>\n",
       "      <td>1300</td>\n",
       "      <td>1</td>\n",
       "      <td>Central</td>\n",
       "      <td>162</td>\n",
       "      <td>1</td>\n",
       "      <td>121</td>\n",
       "      <td>RAPE, FORCIBLE</td>\n",
       "      <td>...</td>\n",
       "      <td>Invest Cont</td>\n",
       "      <td>121.0</td>\n",
       "      <td>998.0</td>\n",
       "      <td>NaN</td>\n",
       "      <td>NaN</td>\n",
       "      <td>700 S  HOPE                         ST</td>\n",
       "      <td>NaN</td>\n",
       "      <td>34.0480</td>\n",
       "      <td>-118.2577</td>\n",
       "      <td>2022-01-30</td>\n",
       "    </tr>\n",
       "    <tr>\n",
       "      <th>405040</th>\n",
       "      <td>220204601</td>\n",
       "      <td>01/14/2022 12:00:00 AM</td>\n",
       "      <td>01/14/2022 12:00:00 AM</td>\n",
       "      <td>2200</td>\n",
       "      <td>2</td>\n",
       "      <td>Rampart</td>\n",
       "      <td>201</td>\n",
       "      <td>1</td>\n",
       "      <td>121</td>\n",
       "      <td>RAPE, FORCIBLE</td>\n",
       "      <td>...</td>\n",
       "      <td>Invest Cont</td>\n",
       "      <td>121.0</td>\n",
       "      <td>998.0</td>\n",
       "      <td>NaN</td>\n",
       "      <td>NaN</td>\n",
       "      <td>1000 N  NORMANDIE                    AV</td>\n",
       "      <td>NaN</td>\n",
       "      <td>34.0885</td>\n",
       "      <td>-118.3005</td>\n",
       "      <td>2022-01-14</td>\n",
       "    </tr>\n",
       "    <tr>\n",
       "      <th>405255</th>\n",
       "      <td>220104778</td>\n",
       "      <td>01/14/2022 12:00:00 AM</td>\n",
       "      <td>01/14/2022 12:00:00 AM</td>\n",
       "      <td>130</td>\n",
       "      <td>1</td>\n",
       "      <td>Central</td>\n",
       "      <td>185</td>\n",
       "      <td>1</td>\n",
       "      <td>121</td>\n",
       "      <td>RAPE, FORCIBLE</td>\n",
       "      <td>...</td>\n",
       "      <td>Invest Cont</td>\n",
       "      <td>121.0</td>\n",
       "      <td>998.0</td>\n",
       "      <td>NaN</td>\n",
       "      <td>NaN</td>\n",
       "      <td>900 S  BROADWAY</td>\n",
       "      <td>NaN</td>\n",
       "      <td>34.0423</td>\n",
       "      <td>-118.2561</td>\n",
       "      <td>2022-01-14</td>\n",
       "    </tr>\n",
       "  </tbody>\n",
       "</table>\n",
       "<p>5 rows × 29 columns</p>\n",
       "</div>"
      ],
      "text/plain": [
       "            DR_NO               Date Rptd                DATE OCC  TIME OCC  \\\n",
       "403894  220105324  01/23/2022 12:00:00 AM  01/22/2022 12:00:00 AM      2000   \n",
       "404423  221205732  02/02/2022 12:00:00 AM  02/02/2022 12:00:00 AM      2000   \n",
       "404887  220100525  01/30/2022 12:00:00 AM  01/30/2022 12:00:00 AM      1300   \n",
       "405040  220204601  01/14/2022 12:00:00 AM  01/14/2022 12:00:00 AM      2200   \n",
       "405255  220104778  01/14/2022 12:00:00 AM  01/14/2022 12:00:00 AM       130   \n",
       "\n",
       "        AREA    AREA NAME  Rpt Dist No  Part 1-2  Crm Cd      Crm Cd Desc  \\\n",
       "403894     1      Central          147         1     121   RAPE, FORCIBLE   \n",
       "404423    12  77th Street         1263         1     122  RAPE, ATTEMPTED   \n",
       "404887     1      Central          162         1     121   RAPE, FORCIBLE   \n",
       "405040     2      Rampart          201         1     121   RAPE, FORCIBLE   \n",
       "405255     1      Central          185         1     121   RAPE, FORCIBLE   \n",
       "\n",
       "        ...   Status Desc  Crm Cd 1 Crm Cd 2 Crm Cd 3  Crm Cd 4  \\\n",
       "403894  ...   Invest Cont     121.0    998.0      NaN       NaN   \n",
       "404423  ...  Adult Arrest     122.0    910.0      NaN       NaN   \n",
       "404887  ...   Invest Cont     121.0    998.0      NaN       NaN   \n",
       "405040  ...   Invest Cont     121.0    998.0      NaN       NaN   \n",
       "405255  ...   Invest Cont     121.0    998.0      NaN       NaN   \n",
       "\n",
       "                                       LOCATION  \\\n",
       "403894                                      5TH   \n",
       "404423          LA SALLE                     AV   \n",
       "404887   700 S  HOPE                         ST   \n",
       "405040  1000 N  NORMANDIE                    AV   \n",
       "405255                          900 S  BROADWAY   \n",
       "\n",
       "                           Cross Street      LAT       LON       Date  \n",
       "403894                       SAN JULIAN  34.0446 -118.2450 2022-01-22  \n",
       "404423  79TH                         ST  33.9636 -118.3112 2022-02-02  \n",
       "404887                              NaN  34.0480 -118.2577 2022-01-30  \n",
       "405040                              NaN  34.0885 -118.3005 2022-01-14  \n",
       "405255                              NaN  34.0423 -118.2561 2022-01-14  \n",
       "\n",
       "[5 rows x 29 columns]"
      ]
     },
     "execution_count": 67,
     "metadata": {},
     "output_type": "execute_result"
    }
   ],
   "source": [
    "sex_crimes = df[df['Crm Cd Desc'].str.contains('SEX CRIMES|RAPE')].copy()\n",
    "sex_crimes.head()"
   ]
  },
  {
   "cell_type": "code",
   "execution_count": 68,
   "id": "d5cfd792",
   "metadata": {},
   "outputs": [
    {
     "data": {
      "text/plain": [
       "<AxesSubplot:title={'center':'Sex Crimes by Area in 2022'}>"
      ]
     },
     "execution_count": 68,
     "metadata": {},
     "output_type": "execute_result"
    },
    {
     "data": {
      "image/png": "[encoded data removed]",
      "text/plain": [
       "<Figure size 432x288 with 1 Axes>"
      ]
     },
     "metadata": {
      "needs_background": "light"
     },
     "output_type": "display_data"
    }
   ],
   "source": [
    "sex_crimes['AREA NAME'].value_counts().sort_values().plot(kind=\"barh\", color = '#33ff74', title = 'Sex Crimes by Area in 2022')"
   ]
  },
  {
   "cell_type": "code",
   "execution_count": 69,
   "id": "5cca8b49",
   "metadata": {},
   "outputs": [
    {
     "data": {
      "text/plain": [
       "<AxesSubplot:title={'center':'Sex Crimes by Type in 2022'}>"
      ]
     },
     "execution_count": 69,
     "metadata": {},
     "output_type": "execute_result"
    },
    {
     "data": {
      "image/png": "[encoded data removed]",
      "text/plain": [
       "<Figure size 432x288 with 1 Axes>"
      ]
     },
     "metadata": {
      "needs_background": "light"
     },
     "output_type": "display_data"
    }
   ],
   "source": [
    "sex_crimes['Crm Cd Desc'].value_counts().sort_values().plot(kind=\"barh\", stacked=True,title = 'Sex Crimes by Type in 2022', color=['red', 'pink'])"
   ]
  },
  {
   "cell_type": "markdown",
   "id": "d8b54632",
   "metadata": {},
   "source": [
    "### With the next few graphs, let's review the sex crimes victims gender, descent, and age"
   ]
  },
  {
   "cell_type": "code",
   "execution_count": 70,
   "id": "277ca693",
   "metadata": {},
   "outputs": [
    {
     "data": {
      "text/plain": [
       "<AxesSubplot:title={'center':'Sex Crimes Victims by Gender in 2022'}>"
      ]
     },
     "execution_count": 70,
     "metadata": {},
     "output_type": "execute_result"
    },
    {
     "data": {
      "image/png": "[encoded data removed]",
      "text/plain": [
       "<Figure size 432x288 with 1 Axes>"
      ]
     },
     "metadata": {
      "needs_background": "light"
     },
     "output_type": "display_data"
    }
   ],
   "source": [
    "sex_crimes['Vict Sex'].value_counts().sort_values().plot(kind=\"bar\", color = '#ffdd33', title = 'Sex Crimes Victims by Gender in 2022')"
   ]
  },
  {
   "cell_type": "code",
   "execution_count": 71,
   "id": "7f36eb79",
   "metadata": {},
   "outputs": [
    {
     "data": {
      "text/plain": [
       "(array([0, 1, 2, 3]),\n",
       " [Text(0, 0, 'B'), Text(1, 0, 'H'), Text(2, 0, 'O'), Text(3, 0, 'W')])"
      ]
     },
     "execution_count": 71,
     "metadata": {},
     "output_type": "execute_result"
    },
    {
     "data": {
      "image/png": "[encoded data removed]",
      "text/plain": [
       "<Figure size 432x288 with 1 Axes>"
      ]
     },
     "metadata": {
      "needs_background": "light"
     },
     "output_type": "display_data"
    }
   ],
   "source": [
    "descent_order = ['B', 'H', 'O', 'W']\n",
    "\n",
    "sns.countplot(x = \"Vict Descent\", data = sex_crimes, order = descent_order, palette=\"Set1\").set(title='Sex Crimes Victims by Descent')\n",
    "plt.xticks(rotation=45)"
   ]
  },
  {
   "cell_type": "markdown",
   "id": "ac18afc8",
   "metadata": {},
   "source": [
    "#### Let's do some data wrangling to categorize the age field"
   ]
  },
  {
   "cell_type": "code",
   "execution_count": 72,
   "id": "fc6bac03",
   "metadata": {},
   "outputs": [
    {
     "data": {
      "text/html": [
       "<div>\n",
       "<style scoped>\n",
       "    .dataframe tbody tr th:only-of-type {\n",
       "        vertical-align: middle;\n",
       "    }\n",
       "\n",
       "    .dataframe tbody tr th {\n",
       "        vertical-align: top;\n",
       "    }\n",
       "\n",
       "    .dataframe thead th {\n",
       "        text-align: right;\n",
       "    }\n",
       "</style>\n",
       "<table border=\"1\" class=\"dataframe\">\n",
       "  <thead>\n",
       "    <tr style=\"text-align: right;\">\n",
       "      <th></th>\n",
       "      <th>DR_NO</th>\n",
       "      <th>Date Rptd</th>\n",
       "      <th>DATE OCC</th>\n",
       "      <th>TIME OCC</th>\n",
       "      <th>AREA</th>\n",
       "      <th>AREA NAME</th>\n",
       "      <th>Rpt Dist No</th>\n",
       "      <th>Part 1-2</th>\n",
       "      <th>Crm Cd</th>\n",
       "      <th>Crm Cd Desc</th>\n",
       "      <th>...</th>\n",
       "      <th>Crm Cd 2</th>\n",
       "      <th>Crm Cd 3</th>\n",
       "      <th>Crm Cd 4</th>\n",
       "      <th>LOCATION</th>\n",
       "      <th>Cross Street</th>\n",
       "      <th>LAT</th>\n",
       "      <th>LON</th>\n",
       "      <th>Date</th>\n",
       "      <th>age_group</th>\n",
       "      <th>age_sort</th>\n",
       "    </tr>\n",
       "  </thead>\n",
       "  <tbody>\n",
       "    <tr>\n",
       "      <th>426900</th>\n",
       "      <td>221904360</td>\n",
       "      <td>01/09/2022 12:00:00 AM</td>\n",
       "      <td>01/09/2022 12:00:00 AM</td>\n",
       "      <td>2130</td>\n",
       "      <td>19</td>\n",
       "      <td>Mission</td>\n",
       "      <td>1906</td>\n",
       "      <td>1</td>\n",
       "      <td>122</td>\n",
       "      <td>RAPE, ATTEMPTED</td>\n",
       "      <td>...</td>\n",
       "      <td>998.0</td>\n",
       "      <td>NaN</td>\n",
       "      <td>NaN</td>\n",
       "      <td>13300    BERG                         ST</td>\n",
       "      <td>NaN</td>\n",
       "      <td>34.3241</td>\n",
       "      <td>-118.4230</td>\n",
       "      <td>2022-01-09</td>\n",
       "      <td>29 - 39</td>\n",
       "      <td>3.0</td>\n",
       "    </tr>\n",
       "    <tr>\n",
       "      <th>426990</th>\n",
       "      <td>220105154</td>\n",
       "      <td>01/21/2022 12:00:00 AM</td>\n",
       "      <td>01/20/2022 12:00:00 AM</td>\n",
       "      <td>300</td>\n",
       "      <td>1</td>\n",
       "      <td>Central</td>\n",
       "      <td>144</td>\n",
       "      <td>1</td>\n",
       "      <td>121</td>\n",
       "      <td>RAPE, FORCIBLE</td>\n",
       "      <td>...</td>\n",
       "      <td>998.0</td>\n",
       "      <td>NaN</td>\n",
       "      <td>NaN</td>\n",
       "      <td>400 S  MAIN                         ST</td>\n",
       "      <td>NaN</td>\n",
       "      <td>34.0478</td>\n",
       "      <td>-118.2484</td>\n",
       "      <td>2022-01-20</td>\n",
       "      <td>18 - 28</td>\n",
       "      <td>2.0</td>\n",
       "    </tr>\n",
       "  </tbody>\n",
       "</table>\n",
       "<p>2 rows × 31 columns</p>\n",
       "</div>"
      ],
      "text/plain": [
       "            DR_NO               Date Rptd                DATE OCC  TIME OCC  \\\n",
       "426900  221904360  01/09/2022 12:00:00 AM  01/09/2022 12:00:00 AM      2130   \n",
       "426990  220105154  01/21/2022 12:00:00 AM  01/20/2022 12:00:00 AM       300   \n",
       "\n",
       "        AREA AREA NAME  Rpt Dist No  Part 1-2  Crm Cd      Crm Cd Desc  ...  \\\n",
       "426900    19   Mission         1906         1     122  RAPE, ATTEMPTED  ...   \n",
       "426990     1   Central          144         1     121   RAPE, FORCIBLE  ...   \n",
       "\n",
       "       Crm Cd 2  Crm Cd 3 Crm Cd 4                                  LOCATION  \\\n",
       "426900    998.0       NaN      NaN  13300    BERG                         ST   \n",
       "426990    998.0       NaN      NaN    400 S  MAIN                         ST   \n",
       "\n",
       "        Cross Street      LAT       LON       Date age_group age_sort  \n",
       "426900           NaN  34.3241 -118.4230 2022-01-09   29 - 39      3.0  \n",
       "426990           NaN  34.0478 -118.2484 2022-01-20   18 - 28      2.0  \n",
       "\n",
       "[2 rows x 31 columns]"
      ]
     },
     "execution_count": 72,
     "metadata": {},
     "output_type": "execute_result"
    }
   ],
   "source": [
    "sex_crimes.loc[sex_crimes['Vict Age']<=17, 'age_group'] = 'less than 18'\n",
    "sex_crimes.loc[sex_crimes['age_group']=='less than 18', 'age_sort'] = 1.0\n",
    "sex_crimes.loc[sex_crimes['Vict Age'].between(18,28), 'age_group'] = '18 - 28'\n",
    "sex_crimes.loc[sex_crimes['age_group']=='18 - 28', 'age_sort'] = 2\n",
    "sex_crimes.loc[sex_crimes['Vict Age'].between(29,39), 'age_group'] = '29 - 39'\n",
    "sex_crimes.loc[sex_crimes['age_group']=='29 - 39', 'age_sort'] = 3\n",
    "sex_crimes.loc[sex_crimes['Vict Age'].between(40,49), 'age_group'] = '40 - 49'\n",
    "sex_crimes.loc[sex_crimes['age_group']=='40 - 49', 'age_sort'] = 4\n",
    "sex_crimes.loc[sex_crimes['Vict Age'].between(50,59), 'age_group'] = '50 - 59'\n",
    "sex_crimes.loc[sex_crimes['age_group']=='50 - 59', 'age_sort'] = 5\n",
    "sex_crimes.loc[sex_crimes['Vict Age'].between(60,69), 'age_group'] = '60 - 69'\n",
    "sex_crimes.loc[sex_crimes['age_group']=='60 - 69', 'age_sort'] = 6\n",
    "sex_crimes.loc[sex_crimes['Vict Age']>=70, 'age_group'] = 'older than 69'\n",
    "sex_crimes.loc[sex_crimes['age_group']=='70 - 200', 'age_sort'] = 7\n",
    "sex_crimes.tail(2)"
   ]
  },
  {
   "cell_type": "code",
   "execution_count": 73,
   "id": "f7e695ab",
   "metadata": {},
   "outputs": [
    {
     "data": {
      "text/html": [
       "<div>\n",
       "<style scoped>\n",
       "    .dataframe tbody tr th:only-of-type {\n",
       "        vertical-align: middle;\n",
       "    }\n",
       "\n",
       "    .dataframe tbody tr th {\n",
       "        vertical-align: top;\n",
       "    }\n",
       "\n",
       "    .dataframe thead th {\n",
       "        text-align: right;\n",
       "    }\n",
       "</style>\n",
       "<table border=\"1\" class=\"dataframe\">\n",
       "  <thead>\n",
       "    <tr style=\"text-align: right;\">\n",
       "      <th></th>\n",
       "      <th>DR_NO</th>\n",
       "      <th>Date Rptd</th>\n",
       "      <th>DATE OCC</th>\n",
       "      <th>TIME OCC</th>\n",
       "      <th>AREA</th>\n",
       "      <th>AREA NAME</th>\n",
       "      <th>Rpt Dist No</th>\n",
       "      <th>Part 1-2</th>\n",
       "      <th>Crm Cd</th>\n",
       "      <th>Crm Cd Desc</th>\n",
       "      <th>...</th>\n",
       "      <th>Crm Cd 2</th>\n",
       "      <th>Crm Cd 3</th>\n",
       "      <th>Crm Cd 4</th>\n",
       "      <th>LOCATION</th>\n",
       "      <th>Cross Street</th>\n",
       "      <th>LAT</th>\n",
       "      <th>LON</th>\n",
       "      <th>Date</th>\n",
       "      <th>age_group</th>\n",
       "      <th>age_sort</th>\n",
       "    </tr>\n",
       "  </thead>\n",
       "  <tbody>\n",
       "    <tr>\n",
       "      <th>413295</th>\n",
       "      <td>221804477</td>\n",
       "      <td>01/10/2022 12:00:00 AM</td>\n",
       "      <td>01/06/2022 12:00:00 AM</td>\n",
       "      <td>2100</td>\n",
       "      <td>18</td>\n",
       "      <td>Southeast</td>\n",
       "      <td>1827</td>\n",
       "      <td>1</td>\n",
       "      <td>121</td>\n",
       "      <td>RAPE, FORCIBLE</td>\n",
       "      <td>...</td>\n",
       "      <td>998.0</td>\n",
       "      <td>NaN</td>\n",
       "      <td>NaN</td>\n",
       "      <td>92ND                         ST</td>\n",
       "      <td>GRAHAM</td>\n",
       "      <td>33.9533</td>\n",
       "      <td>-118.2430</td>\n",
       "      <td>2022-01-06</td>\n",
       "      <td>less than 18</td>\n",
       "      <td>1.0</td>\n",
       "    </tr>\n",
       "    <tr>\n",
       "      <th>426545</th>\n",
       "      <td>220205676</td>\n",
       "      <td>02/08/2022 12:00:00 AM</td>\n",
       "      <td>02/03/2022 12:00:00 AM</td>\n",
       "      <td>1700</td>\n",
       "      <td>2</td>\n",
       "      <td>Rampart</td>\n",
       "      <td>238</td>\n",
       "      <td>1</td>\n",
       "      <td>121</td>\n",
       "      <td>RAPE, FORCIBLE</td>\n",
       "      <td>...</td>\n",
       "      <td>NaN</td>\n",
       "      <td>NaN</td>\n",
       "      <td>NaN</td>\n",
       "      <td>100 N  TOLUCA                       ST</td>\n",
       "      <td>NaN</td>\n",
       "      <td>34.0616</td>\n",
       "      <td>-118.2586</td>\n",
       "      <td>2022-02-03</td>\n",
       "      <td>less than 18</td>\n",
       "      <td>1.0</td>\n",
       "    </tr>\n",
       "    <tr>\n",
       "      <th>425614</th>\n",
       "      <td>220804570</td>\n",
       "      <td>01/14/2022 12:00:00 AM</td>\n",
       "      <td>01/14/2022 12:00:00 AM</td>\n",
       "      <td>2030</td>\n",
       "      <td>8</td>\n",
       "      <td>West LA</td>\n",
       "      <td>899</td>\n",
       "      <td>1</td>\n",
       "      <td>122</td>\n",
       "      <td>RAPE, ATTEMPTED</td>\n",
       "      <td>...</td>\n",
       "      <td>998.0</td>\n",
       "      <td>NaN</td>\n",
       "      <td>NaN</td>\n",
       "      <td>3200    CATTARAUGUS                  AV</td>\n",
       "      <td>NaN</td>\n",
       "      <td>34.0327</td>\n",
       "      <td>-118.3822</td>\n",
       "      <td>2022-01-14</td>\n",
       "      <td>less than 18</td>\n",
       "      <td>1.0</td>\n",
       "    </tr>\n",
       "    <tr>\n",
       "      <th>422829</th>\n",
       "      <td>221405273</td>\n",
       "      <td>01/27/2022 12:00:00 AM</td>\n",
       "      <td>01/16/2022 12:00:00 AM</td>\n",
       "      <td>1950</td>\n",
       "      <td>14</td>\n",
       "      <td>Pacific</td>\n",
       "      <td>1457</td>\n",
       "      <td>1</td>\n",
       "      <td>121</td>\n",
       "      <td>RAPE, FORCIBLE</td>\n",
       "      <td>...</td>\n",
       "      <td>NaN</td>\n",
       "      <td>NaN</td>\n",
       "      <td>NaN</td>\n",
       "      <td>4700    INGLEWOOD                    BL</td>\n",
       "      <td>NaN</td>\n",
       "      <td>33.9932</td>\n",
       "      <td>-118.4153</td>\n",
       "      <td>2022-01-16</td>\n",
       "      <td>less than 18</td>\n",
       "      <td>1.0</td>\n",
       "    </tr>\n",
       "    <tr>\n",
       "      <th>422644</th>\n",
       "      <td>221805928</td>\n",
       "      <td>02/13/2022 12:00:00 AM</td>\n",
       "      <td>01/04/2022 12:00:00 AM</td>\n",
       "      <td>100</td>\n",
       "      <td>18</td>\n",
       "      <td>Southeast</td>\n",
       "      <td>1821</td>\n",
       "      <td>1</td>\n",
       "      <td>121</td>\n",
       "      <td>RAPE, FORCIBLE</td>\n",
       "      <td>...</td>\n",
       "      <td>NaN</td>\n",
       "      <td>NaN</td>\n",
       "      <td>NaN</td>\n",
       "      <td>500 W  CENTURY                      BL</td>\n",
       "      <td>NaN</td>\n",
       "      <td>33.9455</td>\n",
       "      <td>-118.2826</td>\n",
       "      <td>2022-01-04</td>\n",
       "      <td>less than 18</td>\n",
       "      <td>1.0</td>\n",
       "    </tr>\n",
       "  </tbody>\n",
       "</table>\n",
       "<p>5 rows × 31 columns</p>\n",
       "</div>"
      ],
      "text/plain": [
       "            DR_NO               Date Rptd                DATE OCC  TIME OCC  \\\n",
       "413295  221804477  01/10/2022 12:00:00 AM  01/06/2022 12:00:00 AM      2100   \n",
       "426545  220205676  02/08/2022 12:00:00 AM  02/03/2022 12:00:00 AM      1700   \n",
       "425614  220804570  01/14/2022 12:00:00 AM  01/14/2022 12:00:00 AM      2030   \n",
       "422829  221405273  01/27/2022 12:00:00 AM  01/16/2022 12:00:00 AM      1950   \n",
       "422644  221805928  02/13/2022 12:00:00 AM  01/04/2022 12:00:00 AM       100   \n",
       "\n",
       "        AREA  AREA NAME  Rpt Dist No  Part 1-2  Crm Cd      Crm Cd Desc  ...  \\\n",
       "413295    18  Southeast         1827         1     121   RAPE, FORCIBLE  ...   \n",
       "426545     2    Rampart          238         1     121   RAPE, FORCIBLE  ...   \n",
       "425614     8    West LA          899         1     122  RAPE, ATTEMPTED  ...   \n",
       "422829    14    Pacific         1457         1     121   RAPE, FORCIBLE  ...   \n",
       "422644    18  Southeast         1821         1     121   RAPE, FORCIBLE  ...   \n",
       "\n",
       "       Crm Cd 2  Crm Cd 3 Crm Cd 4                                 LOCATION  \\\n",
       "413295    998.0       NaN      NaN          92ND                         ST   \n",
       "426545      NaN       NaN      NaN   100 N  TOLUCA                       ST   \n",
       "425614    998.0       NaN      NaN  3200    CATTARAUGUS                  AV   \n",
       "422829      NaN       NaN      NaN  4700    INGLEWOOD                    BL   \n",
       "422644      NaN       NaN      NaN   500 W  CENTURY                      BL   \n",
       "\n",
       "        Cross Street      LAT       LON       Date     age_group age_sort  \n",
       "413295        GRAHAM  33.9533 -118.2430 2022-01-06  less than 18      1.0  \n",
       "426545           NaN  34.0616 -118.2586 2022-02-03  less than 18      1.0  \n",
       "425614           NaN  34.0327 -118.3822 2022-01-14  less than 18      1.0  \n",
       "422829           NaN  33.9932 -118.4153 2022-01-16  less than 18      1.0  \n",
       "422644           NaN  33.9455 -118.2826 2022-01-04  less than 18      1.0  \n",
       "\n",
       "[5 rows x 31 columns]"
      ]
     },
     "execution_count": 73,
     "metadata": {},
     "output_type": "execute_result"
    }
   ],
   "source": [
    "sex_crimes = sex_crimes.sort_values('age_sort')\n",
    "sex_crimes.head()\n"
   ]
  },
  {
   "cell_type": "code",
   "execution_count": null,
   "id": "5db5e734",
   "metadata": {},
   "outputs": [],
   "source": [
    "\n"
   ]
  },
  {
   "cell_type": "code",
   "execution_count": null,
   "id": "6557e65a",
   "metadata": {},
   "outputs": [],
   "source": []
  },
  {
   "cell_type": "code",
   "execution_count": 74,
   "id": "4f59fbf8",
   "metadata": {},
   "outputs": [
    {
     "data": {
      "text/plain": [
       "(array([0, 1, 2, 3, 4]),\n",
       " [Text(0, 0, 'less than 18'),\n",
       "  Text(1, 0, '18 - 28'),\n",
       "  Text(2, 0, '29 - 39'),\n",
       "  Text(3, 0, '40 - 49'),\n",
       "  Text(4, 0, '50 - 59')])"
      ]
     },
     "execution_count": 74,
     "metadata": {},
     "output_type": "execute_result"
    },
    {
     "data": {
      "image/png": "[encoded data removed]",
      "text/plain": [
       "<Figure size 432x288 with 1 Axes>"
      ]
     },
     "metadata": {},
     "output_type": "display_data"
    }
   ],
   "source": [
    "sns.set_theme(style=\"darkgrid\")\n",
    "day_order = [\"less than 18\", '18 - 28', '29 - 39', '40 - 49', '50 - 59']#, '60 - 69', 'older than 69']\n",
    "sns.countplot(x = \"age_group\", data = sex_crimes, order = day_order, palette=\"Set2\").set(title='Sex Crime Victims by Age')\n",
    "plt.xticks(rotation=45)"
   ]
  },
  {
   "cell_type": "markdown",
   "id": "5ae05fbc",
   "metadata": {},
   "source": [
    "## With these graphs we can learn about the occurrence of reported sex crimes in the city of Los Angeles. For the calendar year 2022, we learn that victims of sex crimes are more likely female, ofe black or hispanic descent and that victims are most likely to be between the age of 18 - 28, as of mid-February. Further we see that sex crimes are more likely to occur in the 77th and Central LAPD geographic areas."
   ]
  },
  {
   "cell_type": "markdown",
   "id": "d04c28c9",
   "metadata": {},
   "source": [
    "## This analysis helps to break down some of the characteristics of this Part 1 crime."
   ]
  },
  {
   "cell_type": "code",
   "execution_count": null,
   "id": "f308d914",
   "metadata": {},
   "outputs": [],
   "source": []
  }
 ],
 "metadata": {
  "kernelspec": {
   "display_name": "Python 3 (ipykernel)",
   "language": "python",
   "name": "python3"
  },
  "language_info": {
   "codemirror_mode": {
    "name": "ipython",
    "version": 3
   },
   "file_extension": ".py",
   "mimetype": "text/x-python",
   "name": "python",
   "nbconvert_exporter": "python",
   "pygments_lexer": "ipython3",
   "version": "3.8.11"
  }
 },
 "nbformat": 4, 
 "nbformat_minor": 5
}
